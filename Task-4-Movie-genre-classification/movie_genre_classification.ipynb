{
 "cells": [
  {
   "cell_type": "markdown",
   "id": "ad78fa10",
   "metadata": {},
   "source": [
    "**Import the libary**"
   ]
  },
  {
   "cell_type": "code",
   "execution_count": 1,
   "id": "cf632e76",
   "metadata": {},
   "outputs": [
    {
     "name": "stderr",
     "output_type": "stream",
     "text": [
      "[nltk_data] Downloading package stopwords to\n",
      "[nltk_data]     C:\\Users\\User\\AppData\\Roaming\\nltk_data...\n",
      "[nltk_data]   Package stopwords is already up-to-date!\n"
     ]
    }
   ],
   "source": [
    "import pandas as pd\n",
    "import re\n",
    "import nltk\n",
    "from nltk.corpus import stopwords\n",
    "nltk.download(\"stopwords\")\n",
    "from sklearn.feature_extraction.text import TfidfVectorizer\n",
    "from sklearn.linear_model import LogisticRegression\n",
    "from sklearn.naive_bayes import MultinomialNB\n",
    "from sklearn.svm import SVC\n",
    "from sklearn.model_selection import train_test_split\n",
    "from sklearn.metrics import classification_report,confusion_matrix,accuracy_score\n",
    "from sklearn.feature_extraction.text import TfidfVectorizer\n"
   ]
  },
  {
   "cell_type": "markdown",
   "id": "c5e003ec",
   "metadata": {},
   "source": [
    "**Data load**"
   ]
  },
  {
   "cell_type": "code",
   "execution_count": 2,
   "id": "7c085557",
   "metadata": {},
   "outputs": [],
   "source": [
    "data = []\n",
    "with open(\"train_data.txt\",\"r\",encoding=\"utf-8\") as file:\n",
    "    for line in file:\n",
    "        parts = line.strip().split(\":::\")\n",
    "        if len(parts)==4:\n",
    "            data.append(parts)\n",
    "train_data = pd.DataFrame(data,columns=[\"id\",\"title\",\"genre\",\"description\"])"
   ]
  },
  {
   "cell_type": "code",
   "execution_count": 3,
   "id": "9ed499fb",
   "metadata": {},
   "outputs": [],
   "source": [
    "data_test = []\n",
    "with open(\"test_data.txt\",\"r\",encoding=\"utf-8\") as file:\n",
    "    for line in file:\n",
    "        parts = line.strip().split(\":::\")\n",
    "        if len(parts)==3:\n",
    "            data_test.append(parts)\n",
    "test_data = pd.DataFrame(data_test,columns=[\"id\",\"title\",\"description\"])"
   ]
  },
  {
   "cell_type": "markdown",
   "id": "68205f9f",
   "metadata": {},
   "source": [
    "**# Explore data analysis**"
   ]
  },
  {
   "cell_type": "markdown",
   "id": "96cabf9f",
   "metadata": {},
   "source": [
    "# train data explore analysis"
   ]
  },
  {
   "cell_type": "code",
   "execution_count": 4,
   "id": "44c8de97",
   "metadata": {},
   "outputs": [
    {
     "data": {
      "text/html": [
       "<div>\n",
       "<style scoped>\n",
       "    .dataframe tbody tr th:only-of-type {\n",
       "        vertical-align: middle;\n",
       "    }\n",
       "\n",
       "    .dataframe tbody tr th {\n",
       "        vertical-align: top;\n",
       "    }\n",
       "\n",
       "    .dataframe thead th {\n",
       "        text-align: right;\n",
       "    }\n",
       "</style>\n",
       "<table border=\"1\" class=\"dataframe\">\n",
       "  <thead>\n",
       "    <tr style=\"text-align: right;\">\n",
       "      <th></th>\n",
       "      <th>id</th>\n",
       "      <th>title</th>\n",
       "      <th>genre</th>\n",
       "      <th>description</th>\n",
       "    </tr>\n",
       "  </thead>\n",
       "  <tbody>\n",
       "    <tr>\n",
       "      <th>0</th>\n",
       "      <td>1</td>\n",
       "      <td>Oscar et la dame rose (2009)</td>\n",
       "      <td>drama</td>\n",
       "      <td>Listening in to a conversation between his do...</td>\n",
       "    </tr>\n",
       "    <tr>\n",
       "      <th>1</th>\n",
       "      <td>2</td>\n",
       "      <td>Cupid (1997)</td>\n",
       "      <td>thriller</td>\n",
       "      <td>A brother and sister with a past incestuous r...</td>\n",
       "    </tr>\n",
       "    <tr>\n",
       "      <th>2</th>\n",
       "      <td>3</td>\n",
       "      <td>Young, Wild and Wonderful (1980)</td>\n",
       "      <td>adult</td>\n",
       "      <td>As the bus empties the students for their fie...</td>\n",
       "    </tr>\n",
       "    <tr>\n",
       "      <th>3</th>\n",
       "      <td>4</td>\n",
       "      <td>The Secret Sin (1915)</td>\n",
       "      <td>drama</td>\n",
       "      <td>To help their unemployed father make ends mee...</td>\n",
       "    </tr>\n",
       "    <tr>\n",
       "      <th>4</th>\n",
       "      <td>5</td>\n",
       "      <td>The Unrecovered (2007)</td>\n",
       "      <td>drama</td>\n",
       "      <td>The film's title refers not only to the un-re...</td>\n",
       "    </tr>\n",
       "  </tbody>\n",
       "</table>\n",
       "</div>"
      ],
      "text/plain": [
       "   id                               title       genre  \\\n",
       "0  1        Oscar et la dame rose (2009)       drama    \n",
       "1  2                        Cupid (1997)    thriller    \n",
       "2  3    Young, Wild and Wonderful (1980)       adult    \n",
       "3  4               The Secret Sin (1915)       drama    \n",
       "4  5              The Unrecovered (2007)       drama    \n",
       "\n",
       "                                         description  \n",
       "0   Listening in to a conversation between his do...  \n",
       "1   A brother and sister with a past incestuous r...  \n",
       "2   As the bus empties the students for their fie...  \n",
       "3   To help their unemployed father make ends mee...  \n",
       "4   The film's title refers not only to the un-re...  "
      ]
     },
     "execution_count": 4,
     "metadata": {},
     "output_type": "execute_result"
    }
   ],
   "source": [
    "train_data.head()"
   ]
  },
  {
   "cell_type": "code",
   "execution_count": 5,
   "id": "499da9a5",
   "metadata": {},
   "outputs": [
    {
     "data": {
      "text/html": [
       "<div>\n",
       "<style scoped>\n",
       "    .dataframe tbody tr th:only-of-type {\n",
       "        vertical-align: middle;\n",
       "    }\n",
       "\n",
       "    .dataframe tbody tr th {\n",
       "        vertical-align: top;\n",
       "    }\n",
       "\n",
       "    .dataframe thead th {\n",
       "        text-align: right;\n",
       "    }\n",
       "</style>\n",
       "<table border=\"1\" class=\"dataframe\">\n",
       "  <thead>\n",
       "    <tr style=\"text-align: right;\">\n",
       "      <th></th>\n",
       "      <th>id</th>\n",
       "      <th>title</th>\n",
       "      <th>genre</th>\n",
       "      <th>description</th>\n",
       "    </tr>\n",
       "  </thead>\n",
       "  <tbody>\n",
       "    <tr>\n",
       "      <th>count</th>\n",
       "      <td>54214</td>\n",
       "      <td>54214</td>\n",
       "      <td>54214</td>\n",
       "      <td>54214</td>\n",
       "    </tr>\n",
       "    <tr>\n",
       "      <th>unique</th>\n",
       "      <td>54214</td>\n",
       "      <td>54214</td>\n",
       "      <td>27</td>\n",
       "      <td>54086</td>\n",
       "    </tr>\n",
       "    <tr>\n",
       "      <th>top</th>\n",
       "      <td>1</td>\n",
       "      <td>Oscar et la dame rose (2009)</td>\n",
       "      <td>drama</td>\n",
       "      <td>Grammy - music award of the American academy ...</td>\n",
       "    </tr>\n",
       "    <tr>\n",
       "      <th>freq</th>\n",
       "      <td>1</td>\n",
       "      <td>1</td>\n",
       "      <td>13613</td>\n",
       "      <td>12</td>\n",
       "    </tr>\n",
       "  </tbody>\n",
       "</table>\n",
       "</div>"
      ],
      "text/plain": [
       "           id                           title    genre  \\\n",
       "count   54214                           54214    54214   \n",
       "unique  54214                           54214       27   \n",
       "top        1    Oscar et la dame rose (2009)    drama    \n",
       "freq        1                               1    13613   \n",
       "\n",
       "                                              description  \n",
       "count                                               54214  \n",
       "unique                                              54086  \n",
       "top      Grammy - music award of the American academy ...  \n",
       "freq                                                   12  "
      ]
     },
     "execution_count": 5,
     "metadata": {},
     "output_type": "execute_result"
    }
   ],
   "source": [
    "train_data.describe()"
   ]
  },
  {
   "cell_type": "code",
   "execution_count": 6,
   "id": "f2b33620",
   "metadata": {},
   "outputs": [
    {
     "name": "stdout",
     "output_type": "stream",
     "text": [
      "<class 'pandas.core.frame.DataFrame'>\n",
      "RangeIndex: 54214 entries, 0 to 54213\n",
      "Data columns (total 4 columns):\n",
      " #   Column       Non-Null Count  Dtype \n",
      "---  ------       --------------  ----- \n",
      " 0   id           54214 non-null  object\n",
      " 1   title        54214 non-null  object\n",
      " 2   genre        54214 non-null  object\n",
      " 3   description  54214 non-null  object\n",
      "dtypes: object(4)\n",
      "memory usage: 1.7+ MB\n"
     ]
    }
   ],
   "source": [
    "train_data.info()"
   ]
  },
  {
   "cell_type": "code",
   "execution_count": 7,
   "id": "735a13a4",
   "metadata": {},
   "outputs": [
    {
     "data": {
      "text/plain": [
       "id             54214\n",
       "title          54214\n",
       "description    54086\n",
       "genre             27\n",
       "dtype: int64"
      ]
     },
     "execution_count": 7,
     "metadata": {},
     "output_type": "execute_result"
    }
   ],
   "source": [
    "train_data.nunique().sort_values(ascending=False)"
   ]
  },
  {
   "cell_type": "markdown",
   "id": "4c81c4e5",
   "metadata": {},
   "source": [
    "# test data explore analysis"
   ]
  },
  {
   "cell_type": "code",
   "execution_count": 6,
   "id": "a213d3de",
   "metadata": {},
   "outputs": [
    {
     "data": {
      "text/html": [
       "<div>\n",
       "<style scoped>\n",
       "    .dataframe tbody tr th:only-of-type {\n",
       "        vertical-align: middle;\n",
       "    }\n",
       "\n",
       "    .dataframe tbody tr th {\n",
       "        vertical-align: top;\n",
       "    }\n",
       "\n",
       "    .dataframe thead th {\n",
       "        text-align: right;\n",
       "    }\n",
       "</style>\n",
       "<table border=\"1\" class=\"dataframe\">\n",
       "  <thead>\n",
       "    <tr style=\"text-align: right;\">\n",
       "      <th></th>\n",
       "      <th>id</th>\n",
       "      <th>title</th>\n",
       "      <th>description</th>\n",
       "    </tr>\n",
       "  </thead>\n",
       "  <tbody>\n",
       "    <tr>\n",
       "      <th>0</th>\n",
       "      <td>1</td>\n",
       "      <td>Edgar's Lunch (1998)</td>\n",
       "      <td>L.R. Brane loves his life - his car, his apar...</td>\n",
       "    </tr>\n",
       "    <tr>\n",
       "      <th>1</th>\n",
       "      <td>2</td>\n",
       "      <td>La guerra de papá (1977)</td>\n",
       "      <td>Spain, March 1964: Quico is a very naughty ch...</td>\n",
       "    </tr>\n",
       "    <tr>\n",
       "      <th>2</th>\n",
       "      <td>3</td>\n",
       "      <td>Off the Beaten Track (2010)</td>\n",
       "      <td>One year in the life of Albin and his family ...</td>\n",
       "    </tr>\n",
       "    <tr>\n",
       "      <th>3</th>\n",
       "      <td>4</td>\n",
       "      <td>Meu Amigo Hindu (2015)</td>\n",
       "      <td>His father has died, he hasn't spoken with hi...</td>\n",
       "    </tr>\n",
       "    <tr>\n",
       "      <th>4</th>\n",
       "      <td>5</td>\n",
       "      <td>Er nu zhai (1955)</td>\n",
       "      <td>Before he was known internationally as a mart...</td>\n",
       "    </tr>\n",
       "  </tbody>\n",
       "</table>\n",
       "</div>"
      ],
      "text/plain": [
       "   id                          title  \\\n",
       "0  1           Edgar's Lunch (1998)    \n",
       "1  2       La guerra de papá (1977)    \n",
       "2  3    Off the Beaten Track (2010)    \n",
       "3  4         Meu Amigo Hindu (2015)    \n",
       "4  5              Er nu zhai (1955)    \n",
       "\n",
       "                                         description  \n",
       "0   L.R. Brane loves his life - his car, his apar...  \n",
       "1   Spain, March 1964: Quico is a very naughty ch...  \n",
       "2   One year in the life of Albin and his family ...  \n",
       "3   His father has died, he hasn't spoken with hi...  \n",
       "4   Before he was known internationally as a mart...  "
      ]
     },
     "execution_count": 6,
     "metadata": {},
     "output_type": "execute_result"
    }
   ],
   "source": [
    "test_data.head()"
   ]
  },
  {
   "cell_type": "code",
   "execution_count": 10,
   "id": "6c3f6952",
   "metadata": {},
   "outputs": [
    {
     "data": {
      "text/html": [
       "<div>\n",
       "<style scoped>\n",
       "    .dataframe tbody tr th:only-of-type {\n",
       "        vertical-align: middle;\n",
       "    }\n",
       "\n",
       "    .dataframe tbody tr th {\n",
       "        vertical-align: top;\n",
       "    }\n",
       "\n",
       "    .dataframe thead th {\n",
       "        text-align: right;\n",
       "    }\n",
       "</style>\n",
       "<table border=\"1\" class=\"dataframe\">\n",
       "  <thead>\n",
       "    <tr style=\"text-align: right;\">\n",
       "      <th></th>\n",
       "      <th>id</th>\n",
       "      <th>title</th>\n",
       "      <th>description</th>\n",
       "    </tr>\n",
       "  </thead>\n",
       "  <tbody>\n",
       "    <tr>\n",
       "      <th>count</th>\n",
       "      <td>54200</td>\n",
       "      <td>54200</td>\n",
       "      <td>54200</td>\n",
       "    </tr>\n",
       "    <tr>\n",
       "      <th>unique</th>\n",
       "      <td>54200</td>\n",
       "      <td>54200</td>\n",
       "      <td>54072</td>\n",
       "    </tr>\n",
       "    <tr>\n",
       "      <th>top</th>\n",
       "      <td>1</td>\n",
       "      <td>Edgar's Lunch (1998)</td>\n",
       "      <td>Grammy - music award of the American academy ...</td>\n",
       "    </tr>\n",
       "    <tr>\n",
       "      <th>freq</th>\n",
       "      <td>1</td>\n",
       "      <td>1</td>\n",
       "      <td>10</td>\n",
       "    </tr>\n",
       "  </tbody>\n",
       "</table>\n",
       "</div>"
      ],
      "text/plain": [
       "           id                   title  \\\n",
       "count   54200                   54200   \n",
       "unique  54200                   54200   \n",
       "top        1    Edgar's Lunch (1998)    \n",
       "freq        1                       1   \n",
       "\n",
       "                                              description  \n",
       "count                                               54200  \n",
       "unique                                              54072  \n",
       "top      Grammy - music award of the American academy ...  \n",
       "freq                                                   10  "
      ]
     },
     "execution_count": 10,
     "metadata": {},
     "output_type": "execute_result"
    }
   ],
   "source": [
    "test_data.describe()"
   ]
  },
  {
   "cell_type": "code",
   "execution_count": 7,
   "id": "cb48bfe9",
   "metadata": {},
   "outputs": [
    {
     "name": "stdout",
     "output_type": "stream",
     "text": [
      "<class 'pandas.core.frame.DataFrame'>\n",
      "RangeIndex: 54200 entries, 0 to 54199\n",
      "Data columns (total 3 columns):\n",
      " #   Column       Non-Null Count  Dtype \n",
      "---  ------       --------------  ----- \n",
      " 0   id           54200 non-null  object\n",
      " 1   title        54200 non-null  object\n",
      " 2   description  54200 non-null  object\n",
      "dtypes: object(3)\n",
      "memory usage: 1.2+ MB\n"
     ]
    }
   ],
   "source": [
    "test_data.info()"
   ]
  },
  {
   "cell_type": "code",
   "execution_count": 8,
   "id": "cd6770ea",
   "metadata": {},
   "outputs": [
    {
     "data": {
      "text/plain": [
       "id             54200\n",
       "title          54200\n",
       "description    54072\n",
       "dtype: int64"
      ]
     },
     "execution_count": 8,
     "metadata": {},
     "output_type": "execute_result"
    }
   ],
   "source": [
    "test_data.nunique().sort_values(ascending=False)"
   ]
  },
  {
   "cell_type": "markdown",
   "id": "5ae29642",
   "metadata": {},
   "source": [
    "**# Text preprocess**"
   ]
  },
  {
   "cell_type": "code",
   "execution_count": 9,
   "id": "95edf7ae",
   "metadata": {},
   "outputs": [],
   "source": [
    "#remove id column from both train and test data \n",
    "train_data = train_data.drop(\"id\",axis=1)\n",
    "test_data = test_data.drop(\"id\",axis=1)"
   ]
  },
  {
   "cell_type": "code",
   "execution_count": 10,
   "id": "e4d4b5fb",
   "metadata": {},
   "outputs": [],
   "source": [
    "# Load stopwords\n",
    "stop_words = set(stopwords.words('english'))\n",
    "\n",
    "# Combine title and description, clean text\n",
    "def clean_text(text):\n",
    "    text = text.lower()\n",
    "    text = re.sub(r\"[^\\w\\s]\", \"\", text)  # remove punctuation\n",
    "    text = re.sub(r\"\\d+\", \"\", text)  # remove digits\n",
    "    text = \" \".join([word for word in text.split() if word not in stop_words])\n",
    "    return text\n",
    "\n",
    "# Create combined and cleaned text field\n",
    "train_data[\"text\"] = (train_data[\"title\"] + \" \" + train_data[\"description\"]).apply(clean_text)\n",
    "test_data[\"text\"] = (test_data[\"title\"] + \" \" + test_data[\"description\"]).apply(clean_text)\n"
   ]
  },
  {
   "cell_type": "code",
   "execution_count": 15,
   "id": "340041d9",
   "metadata": {},
   "outputs": [],
   "source": [
    "#vectorize\n",
    "tfidf = TfidfVectorizer(max_features=10000, ngram_range=(1, 2))\n",
    "X_train = tfidf.fit_transform(train_data[\"text\"])\n",
    "X_test = tfidf.transform(test_data[\"text\"])\n",
    "\n",
    "y_train = train_data[\"genre\"]"
   ]
  },
  {
   "cell_type": "code",
   "execution_count": 17,
   "id": "31fc2428",
   "metadata": {},
   "outputs": [],
   "source": [
    "# Split for validation\n",
    "X_tr, X_val, y_tr, y_val = train_test_split(X_train, y_train, test_size=0.2, random_state=42)"
   ]
  },
  {
   "cell_type": "code",
   "execution_count": 18,
   "id": "58c26b09",
   "metadata": {},
   "outputs": [],
   "source": [
    "from imblearn.over_sampling import SMOTE\n",
    "smote = SMOTE()\n",
    "X_tr, y_tr= smote.fit_resample(X_tr, y_tr)\n"
   ]
  },
  {
   "cell_type": "markdown",
   "id": "a5b8d92c",
   "metadata": {},
   "source": [
    "**# Model build and test**"
   ]
  },
  {
   "cell_type": "code",
   "execution_count": 19,
   "id": "f159f75b",
   "metadata": {},
   "outputs": [],
   "source": [
    "models = {\n",
    "    \"LogisticRegression\":LogisticRegression(class_weight='balanced', max_iter=1000),\n",
    "    \"MultinomalNB\":MultinomialNB(),\n",
    "    \"SupportVectorMachine\":SVC(class_weight='balanced')\n",
    "}"
   ]
  },
  {
   "cell_type": "code",
   "execution_count": null,
   "id": "394db7b9",
   "metadata": {},
   "outputs": [
    {
     "name": "stdout",
     "output_type": "stream",
     "text": [
      "\n",
      "LogisticRegression Result: \n",
      "classification score:                 precision    recall  f1-score   support\n",
      "\n",
      "      action        0.47      0.35      0.40       351\n",
      "       adult        0.54      0.45      0.49       133\n",
      "   adventure        0.31      0.24      0.27       181\n",
      "   animation        0.26      0.24      0.25       111\n",
      "   biography        0.03      0.06      0.04        35\n",
      "      comedy        0.57      0.58      0.57      1416\n",
      "       crime        0.21      0.15      0.18       155\n",
      " documentary        0.69      0.78      0.73      2342\n",
      "       drama        0.53      0.67      0.59      2162\n",
      "      family        0.27      0.17      0.20       242\n",
      "     fantasy        0.11      0.13      0.12        60\n",
      "   game-show        0.72      0.81      0.76        36\n",
      "     history        0.04      0.03      0.04        64\n",
      "      horror        0.68      0.61      0.64       484\n",
      "       music        0.71      0.47      0.57       216\n",
      "     musical        0.20      0.18      0.19        57\n",
      "     mystery        0.16      0.12      0.14        75\n",
      "        news        0.21      0.23      0.22        31\n",
      "  reality-tv        0.53      0.38      0.44       263\n",
      "     romance        0.22      0.14      0.17       236\n",
      "      sci-fi        0.45      0.40      0.42       163\n",
      "       short        0.45      0.42      0.44      1121\n",
      "       sport        0.65      0.43      0.52       140\n",
      "   talk-show        0.43      0.38      0.41        91\n",
      "    thriller        0.34      0.25      0.29       421\n",
      "         war        0.30      0.15      0.20        40\n",
      "     western        0.88      0.81      0.84       217\n",
      "\n",
      "     accuracy                           0.55     10843\n",
      "    macro avg       0.41      0.36      0.38     10843\n",
      " weighted avg       0.53      0.55      0.54     10843\n",
      "\n",
      "confusion matrixs:  [[ 124    1   11    4    1   21   15   13   80    4    5    0    5    8\n",
      "     0    0    1    0    0    0    8   16    6    0   18    5    5]\n",
      " [   1   60    4    0    0   15    0    8   28    0    0    0    0    2\n",
      "     0    0    0    0    0    1    1    6    0    0    7    0    0]\n",
      " [   4   13   43    5    0   14    0   29   25    6    8    0    5    2\n",
      "     0    0    1    0    7    0    3    8    1    2    3    0    2]\n",
      " [   4    0    3   27    0   15    1    7    7   15    4    0    1    4\n",
      "     1    0    0    1    0    0    2   17    0    0    2    0    0]\n",
      " [   0    0    0    0    2    1    0   24    5    0    0    0    0    0\n",
      "     1    0    0    0    0    0    0    1    0    1    0    0    0]\n",
      " [  14   13    8    9    3  816   10   53  278   17    5    1    0    9\n",
      "     1    9    0    1   22   31    6   88    2    2   13    0    5]\n",
      " [  15    0    3    0    0   18   23   16   49    0    2    0    0    4\n",
      "     0    0    4    1    1    1    0    7    0    0   10    0    1]\n",
      " [   7    0    5    3   27   34    5 1833  142    5    4    1   15    4\n",
      "    14    1    2   10   22    1    9  161   13   10   10    2    2]\n",
      " [  22    4   13    9   11  182   10  142 1442   18    8    0    7   19\n",
      "     3   11    7    0    7   54   11  120    1    1   48    4    8]\n",
      " [   2    1    4   18    0   33    0   39   61   40    4    0    2    5\n",
      "     2    1    0    1    2    2    4   14    1    3    3    0    0]\n",
      " [   2    1    0    5    0    3    0   10   12    1    8    0    1    3\n",
      "     0    1    0    0    1    1    2    9    0    0    0    0    0]\n",
      " [   0    0    0    0    0    1    1    2    0    1    0   29    0    0\n",
      "     0    0    0    0    1    0    0    0    0    1    0    0    0]\n",
      " [   0    0    1    0    3    4    1   35    8    0    0    0    2    0\n",
      "     0    2    0    0    2    0    0    6    0    0    0    0    0]\n",
      " [   8    1    8    3    0   28    6   14   42    1    5    0    0  294\n",
      "     0    1    5    0    0    0   10   17    0    0   41    0    0]\n",
      " [   0    0    1    2    1   12    1   64    6    3    0    0    0    3\n",
      "   102    5    1    0    2    0    0    8    1    4    0    0    0]\n",
      " [   1    0    0    0    1    6    0   11   14    1    0    1    0    1\n",
      "     5   10    0    0    0    2    0    3    0    0    0    1    0]\n",
      " [   1    0    2    1    0    6    4    9   14    0    0    0    0    1\n",
      "     0    0    9    0    1    0    2    7    0    0   18    0    0]\n",
      " [   0    0    0    0    0    4    0    6    0    1    0    0    0    0\n",
      "     1    0    0    7    1    1    1    3    0    6    0    0    0]\n",
      " [   0    0    6    1    1   27    0   59   16    9    1    5    1    2\n",
      "     4    1    0    5  101    1    2    7    4    8    2    0    0]\n",
      " [   1    2    1    0    1   52    2    7  108    4    2    0    0    2\n",
      "     1    3    0    0    0   33    1   11    0    1    4    0    0]\n",
      " [   9    1    5    8    0    7    1   15   18    2    4    0    0    9\n",
      "     0    0    1    0    1    0   65    9    0    1    7    0    0]\n",
      " [   8   10    9    8    7   82    6  191  207   16   12    1    2   13\n",
      "     7    1    4    1   10   18    7  475    1    6   17    2    0]\n",
      " [   8    0    1    0    2   10    0   37    5    1    0    1    1    1\n",
      "     0    0    0    0    6    0    0    7   60    0    0    0    0]\n",
      " [   1    0    0    0    0   11    0   12    1    2    0    0    0    3\n",
      "     2    1    1    7    5    0    1    6    3   35    0    0    0]\n",
      " [  28    4    5    0    1   34   20   11  104    1    2    0    1   41\n",
      "     0    1   19    0    0    5    6   30    0    0  106    0    2]\n",
      " [   2    0    1    1    0    2    0    7   10    2    0    1    2    0\n",
      "     0    1    0    0    0    0    0    5    0    0    0    6    0]\n",
      " [   1    1    5    0    0    5    1    5   15    0    0    0    0    1\n",
      "     0    1    1    0    0    0    2    4    0    0    0    0  175]]\n",
      "\n",
      "MultinomalNB Result: \n",
      "classification score:                 precision    recall  f1-score   support\n",
      "\n",
      "      action        0.47      0.34      0.40       362\n",
      "       adult        0.58      0.46      0.51       142\n",
      "   adventure        0.31      0.27      0.29       157\n",
      "   animation        0.28      0.25      0.26       118\n",
      "   biography        0.03      0.02      0.03        82\n",
      "      comedy        0.51      0.56      0.53      1303\n",
      "       crime        0.27      0.16      0.20       177\n",
      " documentary        0.65      0.76      0.70      2261\n",
      "       drama        0.49      0.66      0.56      1988\n",
      "      family        0.25      0.20      0.22       186\n",
      "     fantasy        0.20      0.22      0.21        67\n",
      "   game-show        0.68      0.77      0.72        35\n",
      "     history        0.18      0.09      0.12        91\n",
      "      horror        0.68      0.57      0.62       516\n",
      "       music        0.76      0.33      0.47       329\n",
      "     musical        0.14      0.13      0.14        52\n",
      "     mystery        0.07      0.05      0.06        76\n",
      "        news        0.15      0.17      0.16        29\n",
      "  reality-tv        0.62      0.37      0.47       319\n",
      "     romance        0.32      0.12      0.18       390\n",
      "      sci-fi        0.43      0.32      0.37       192\n",
      "       short        0.36      0.46      0.41       836\n",
      "       sport        0.80      0.41      0.54       181\n",
      "   talk-show        0.44      0.24      0.31       151\n",
      "    thriller        0.35      0.22      0.27       488\n",
      "         war        0.35      0.13      0.19        55\n",
      "     western        0.91      0.70      0.79       260\n",
      "\n",
      "     accuracy                           0.52     10843\n",
      "    macro avg       0.42      0.33      0.36     10843\n",
      " weighted avg       0.51      0.52      0.50     10843\n",
      "\n",
      "confusion matrixs:  [[ 124    1    6    4    0   35   19   14   90    2    5    0    4    5\n",
      "     0    0    1    1    1    1    8   16    0    1   16    5    3]\n",
      " [   1   65   11    0    1   16    1    2   21    1    2    1    0    4\n",
      "     0    0    0    0    1    1    1    9    0    0    4    0    0]\n",
      " [   5   10   43    4    0   21    1   20   20    1    3    0    2    3\n",
      "     0    0    1    0    6    0    3    8    0    0    4    0    2]\n",
      " [   1    0    5   29    0   17    0    7    5   20    6    0    0    4\n",
      "     1    0    0    1    1    1    0   20    0    0    0    0    0]\n",
      " [   1    0    0    1    2    5    0   49    8    0    0    0    2    0\n",
      "     2    0    0    0    1    0    1    8    0    2    0    0    0]\n",
      " [  10   10    3    8    2  731   10   44  271   18    5    1    0   13\n",
      "     4   11    3    0   13   22    5   95    2    0   18    0    4]\n",
      " [   8    0    1    0    0   21   29   21   52    0    1    0    0    5\n",
      "     0    0    7    0    3    1    0   11    0    0   17    0    0]\n",
      " [   5    1    8    4   28   39    2 1728  170    6    5    1   10    5\n",
      "    11    4    4   10   18    1    9  173    3   10    2    2    2]\n",
      " [  20    5    8    4   12  170    9  131 1319   13    8    0    3   16\n",
      "     1    8    4    0    4   49   10  136    1    0   47    3    7]\n",
      " [   0    0    4   13    0   28    0   31   38   37    1    0    1    3\n",
      "     2    4    0    0    0    2    2   16    0    2    2    0    0]\n",
      " [   6    0    2    3    1    4    0    3   16    1   15    0    2    1\n",
      "     0    0    0    0    0    1    4    7    0    0    1    0    0]\n",
      " [   0    0    0    0    0    1    0    2    0    0    0   27    0    0\n",
      "     1    0    0    0    1    0    0    0    1    1    1    0    0]\n",
      " [   1    0    0    1    5    4    0   48   16    0    0    0    8    1\n",
      "     0    1    0    0    1    0    0    4    0    0    1    0    0]\n",
      " [   5    4   11    3    0   27    4   19   42    4    6    0    0  293\n",
      "     0    1    8    1    2    0   14   24    1    0   47    0    0]\n",
      " [   0    1    1    4    3   30    0  128    7    8    0    2    0    5\n",
      "   110    5    1    3    3    1    0    9    2    6    0    0    0]\n",
      " [   1    1    0    0    1    8    0    4   17    0    0    0    0    1\n",
      "     5    7    0    0    0    1    0    5    0    0    0    1    0]\n",
      " [   1    2    1    1    0   10    4    4   18    1    0    0    0    7\n",
      "     0    0    4    0    0    0    0    6    0    1   16    0    0]\n",
      " [   0    0    0    1    0    4    0    8    0    1    0    0    1    1\n",
      "     0    0    0    5    1    0    0    2    0    5    0    0    0]\n",
      " [   1    2    5    0    0   42    0   83   12    7    0    5    1    2\n",
      "     0    1    0    3  119    2    2   14    5   12    1    0    0]\n",
      " [   6    4    2    3    0   74    1    4  199    8    2    0    1    1\n",
      "     1    5    0    0    1   48    1   22    0    1    6    0    0]\n",
      " [  17    1    9   12    0   10    1   26   14    2    6    0    0   12\n",
      "     0    0    1    0    1    0   62   11    0    0    7    0    0]\n",
      " [   4    3    1    5    3   51    5  161  157    2    7    0    3    5\n",
      "     2    3    3    1    2   13    6  381    1    4   11    2    0]\n",
      " [  10    0    1    0    2   11    0   54    6    4    0    3    0    0\n",
      "     1    0    0    0    8    0    0    7   74    0    0    0    0]\n",
      " [   1    0    0    0    0   33    1   33    5    8    0    0    0    3\n",
      "     3    0    1    8    5    0    3    8    3   36    0    0    0]\n",
      " [  29    1    6    3    1   38   18   18  140    3    1    0    2   40\n",
      "     0    0   16    1    0    7   11   45    0    0  107    0    1]\n",
      " [   2    0    2    0    0    6    0   12   15    2    1    0    5    0\n",
      "     0    0    0    0    0    0    0    2    0    0    1    7    0]\n",
      " [   4    1    9    1    0    7    2    5   39    1    0    0    0    1\n",
      "     0    0    2    0    0    0    1    6    0    0    0    0  181]]\n"
     ]
    },
    {
     "ename": "",
     "evalue": "",
     "output_type": "error",
     "traceback": [
      "\u001b[1;31mFailed to interrupt the Kernel. \n",
      "\u001b[1;31mUnable to start Kernel 'Python 3.11.7' due to a timeout waiting for the ports to get used. \n",
      "\u001b[1;31mView Jupyter <a href='command:jupyter.viewOutput'>log</a> for further details."
     ]
    }
   ],
   "source": [
    "#evaluate with valdation \n",
    "for name,model in models.items():\n",
    "    model.fit(X_tr,y_tr)\n",
    "    y_pred = model.predict(X_val)\n",
    "    print(f\"\\n{name} Result: \")\n",
    "    print(\"classification score: \",classification_report(y_pred,y_val))\n",
    "    print(\"confusion matrixs: \", confusion_matrix(y_pred,y_val))\n",
    "    \n"
   ]
  },
  {
   "cell_type": "code",
   "execution_count": null,
   "id": "9a0ce36f",
   "metadata": {},
   "outputs": [],
   "source": [
    "#evaluate with test data\n",
    "for name,model in models.items():\n",
    "    model.fit(X_tr,y_tr)\n",
    "    y_pred = model.predict(X_val)\n",
    "    print(f\"\\n{name} Result: \")\n",
    "    print(\"accurcy score: \",accuracy_score(y_pred,y_val))\n",
    "    print(\"classification score: \",classification_report(y_pred,y_val))\n",
    "    print(\"confusion matrixs: \", confusion_matrix(y_pred,y_val))\n",
    "    \n"
   ]
  }
 ],
 "metadata": {
  "kernelspec": {
   "display_name": "Python 3",
   "language": "python",
   "name": "python3"
  },
  "language_info": {
   "codemirror_mode": {
    "name": "ipython",
    "version": 3
   },
   "file_extension": ".py",
   "mimetype": "text/x-python",
   "name": "python",
   "nbconvert_exporter": "python",
   "pygments_lexer": "ipython3",
   "version": "3.11.7"
  }
 },
 "nbformat": 4,
 "nbformat_minor": 5
}
